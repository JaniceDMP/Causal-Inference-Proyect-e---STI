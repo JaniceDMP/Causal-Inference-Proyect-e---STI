{
 "cells": [
  {
   "cell_type": "code",
   "execution_count": 1,
   "id": "6b863856-a165-4958-a827-a6cda157cd72",
   "metadata": {},
   "outputs": [],
   "source": [
    "options(pkgType = \"binary\", repos = \"https://cran-archive.r-project.org/\")"
   ]
  },
  {
   "cell_type": "code",
   "execution_count": 2,
   "id": "0c7dfc4f-73bd-4aa8-b7ff-faabc99ee46a",
   "metadata": {},
   "outputs": [
    {
     "name": "stderr",
     "output_type": "stream",
     "text": [
      "Installing package into 'C:/Users/user/Documents/R/win-library/3.6'\n",
      "(as 'lib' is unspecified)\n",
      "also installing the dependencies 'credentials', 'openssl', 'gitcreds', 'ini', 'fastmap', 'gert', 'gh', 'whisker', 'cachem', 'xopen', 'brew', 'commonmark', 'usethis', 'memoise', 'pkgbuild', 'rcmdcheck', 'remotes', 'roxygen2', 'rversions', 'sessioninfo'\n",
      "\n"
     ]
    },
    {
     "name": "stdout",
     "output_type": "stream",
     "text": [
      "package 'credentials' successfully unpacked and MD5 sums checked\n",
      "package 'openssl' successfully unpacked and MD5 sums checked\n",
      "package 'gitcreds' successfully unpacked and MD5 sums checked\n",
      "package 'ini' successfully unpacked and MD5 sums checked\n",
      "package 'fastmap' successfully unpacked and MD5 sums checked\n",
      "package 'gert' successfully unpacked and MD5 sums checked\n",
      "package 'gh' successfully unpacked and MD5 sums checked\n",
      "package 'whisker' successfully unpacked and MD5 sums checked\n",
      "package 'cachem' successfully unpacked and MD5 sums checked\n",
      "package 'xopen' successfully unpacked and MD5 sums checked\n",
      "package 'brew' successfully unpacked and MD5 sums checked\n",
      "package 'commonmark' successfully unpacked and MD5 sums checked\n",
      "package 'usethis' successfully unpacked and MD5 sums checked\n",
      "package 'memoise' successfully unpacked and MD5 sums checked\n",
      "package 'pkgbuild' successfully unpacked and MD5 sums checked\n",
      "package 'rcmdcheck' successfully unpacked and MD5 sums checked\n",
      "package 'remotes' successfully unpacked and MD5 sums checked\n",
      "package 'roxygen2' successfully unpacked and MD5 sums checked\n",
      "package 'rversions' successfully unpacked and MD5 sums checked\n",
      "package 'sessioninfo' successfully unpacked and MD5 sums checked\n",
      "package 'devtools' successfully unpacked and MD5 sums checked\n",
      "\n",
      "The downloaded binary packages are in\n",
      "\tC:\\Users\\user\\AppData\\Local\\Temp\\RtmpMTWV0J\\downloaded_packages\n"
     ]
    },
    {
     "name": "stderr",
     "output_type": "stream",
     "text": [
      "WARNING: Rtools is required to build R packages, but is not currently installed.\n",
      "\n",
      "Please download and install Rtools 3.5 from https://cran.r-project.org/bin/windows/Rtools/.\n",
      "Downloading GitHub repo susanathey/causalTree@HEAD\n",
      "WARNING: Rtools is required to build R packages, but is not currently installed.\n",
      "\n",
      "Please download and install Rtools 3.5 from https://cran.r-project.org/bin/windows/Rtools/.\n"
     ]
    },
    {
     "ename": "ERROR",
     "evalue": "Error: Failed to install 'causalTree' from GitHub:\n  Could not find tools necessary to compile a package\nCall `pkgbuild::check_build_tools(debug = TRUE)` to diagnose the problem.\n",
     "output_type": "error",
     "traceback": [
      "Error: Failed to install 'causalTree' from GitHub:\n  Could not find tools necessary to compile a package\nCall `pkgbuild::check_build_tools(debug = TRUE)` to diagnose the problem.\nTraceback:\n",
      "1. devtools::install_github(\"susanathey/causalTree\")",
      "2. pkgbuild::with_build_tools({\n .     ellipsis::check_dots_used(action = getOption(\"devtools.ellipsis_action\", \n .         rlang::warn))\n .     {\n .         remotes <- lapply(repo, github_remote, ref = ref, subdir = subdir, \n .             auth_token = auth_token, host = host)\n .         install_remotes(remotes, auth_token = auth_token, host = host, \n .             dependencies = dependencies, upgrade = upgrade, force = force, \n .             quiet = quiet, build = build, build_opts = build_opts, \n .             build_manual = build_manual, build_vignettes = build_vignettes, \n .             repos = repos, type = type, ...)\n .     }\n . }, required = FALSE)",
      "3. install_remotes(remotes, auth_token = auth_token, host = host, \n .     dependencies = dependencies, upgrade = upgrade, force = force, \n .     quiet = quiet, build = build, build_opts = build_opts, build_manual = build_manual, \n .     build_vignettes = build_vignettes, repos = repos, type = type, \n .     ...)",
      "4. tryCatch(res[[i]] <- install_remote(remotes[[i]], ...), error = function(e) {\n .     stop(remote_install_error(remotes[[i]], e))\n . })",
      "5. tryCatchList(expr, classes, parentenv, handlers)",
      "6. tryCatchOne(expr, names, parentenv, handlers[[1L]])",
      "7. value[[3L]](cond)"
     ]
    }
   ],
   "source": [
    "# install.packages(\"devtools\")  # if you don't have this installed yet.\n",
    "# devtools::install_github('susanathey/causalTree') \n",
    "library(causalTree)"
   ]
  },
  {
   "cell_type": "code",
   "execution_count": 17,
   "id": "8e996c14-64f6-4873-8fcc-e50c5cd26d2d",
   "metadata": {},
   "outputs": [
    {
     "name": "stderr",
     "output_type": "stream",
     "text": [
      "Installing package into 'C:/Users/user/Documents/R/win-library/3.6'\n",
      "(as 'lib' is unspecified)\n"
     ]
    },
    {
     "name": "stdout",
     "output_type": "stream",
     "text": [
      "package 'dplyr' successfully unpacked and MD5 sums checked\n"
     ]
    },
    {
     "name": "stderr",
     "output_type": "stream",
     "text": [
      "Warning message:\n",
      "\"cannot remove prior installation of package 'dplyr'\"Warning message in file.copy(savedcopy, lib, recursive = TRUE):\n",
      "\"problema al copiar C:\\Users\\user\\Documents\\R\\win-library\\3.6\\00LOCK\\dplyr\\libs\\x64\\dplyr.dll  a C:\\Users\\user\\Documents\\R\\win-library\\3.6\\dplyr\\libs\\x64\\dplyr.dll: Permission denied\"Warning message:\n",
      "\"restored 'dplyr'\""
     ]
    },
    {
     "name": "stdout",
     "output_type": "stream",
     "text": [
      "\n",
      "The downloaded binary packages are in\n",
      "\tC:\\Users\\user\\AppData\\Local\\Temp\\RtmpMTWV0J\\downloaded_packages\n"
     ]
    },
    {
     "name": "stderr",
     "output_type": "stream",
     "text": [
      "Warning message:\n",
      "\"package 'dplyr' was built under R version 3.6.3\"\n",
      "Attaching package: 'dplyr'\n",
      "\n",
      "The following object is masked from 'package:MASS':\n",
      "\n",
      "    select\n",
      "\n",
      "The following objects are masked from 'package:stats':\n",
      "\n",
      "    filter, lag\n",
      "\n",
      "The following objects are masked from 'package:base':\n",
      "\n",
      "    intersect, setdiff, setequal, union\n",
      "\n"
     ]
    }
   ],
   "source": [
    "#install.packages(\"grf\")\n",
    "#install.packages(\"rpart\")\n",
    "#install.packages(\"glmnet\")\n",
    "#install.packages(\"splines\")\n",
    "#install.packages(\"MASS\")\n",
    "#install.packages(\"lmtest\")\n",
    "#install.packages(\"sandwich\")\n",
    "#install.packages(\"ggplot2\")\n",
    "#install.packages(\"dplyr\")\n",
    "\n",
    "library(grf)\n",
    "library(rpart)\n",
    "library(glmnet)\n",
    "library(splines)\n",
    "library(MASS)\n",
    "library(lmtest)\n",
    "library(sandwich)\n",
    "library(ggplot2)\n",
    "library(dplyr)"
   ]
  },
  {
   "cell_type": "code",
   "execution_count": 15,
   "id": "5adb09f5-7265-4443-9ccf-ef92a256e01c",
   "metadata": {},
   "outputs": [
    {
     "data": {
      "text/html": [
       "<table>\n",
       "<thead><tr><th scope=col>y</th><th scope=col>w</th><th scope=col>gender_female</th><th scope=col>gender_male</th><th scope=col>gender_transgender</th><th scope=col>ethnicgrp_asian</th><th scope=col>ethnicgrp_black</th><th scope=col>ethnicgrp_mixed_multiple</th><th scope=col>ethnicgrp_other</th><th scope=col>ethnicgrp_white</th><th scope=col>partners1</th><th scope=col>postlaunch</th><th scope=col>msm</th><th scope=col>age</th><th scope=col>imd_decile</th></tr></thead>\n",
       "<tbody>\n",
       "\t<tr><td>1 </td><td>1 </td><td>0 </td><td>1 </td><td>0 </td><td>0 </td><td>0 </td><td>1 </td><td>0 </td><td>0 </td><td>0 </td><td>1 </td><td>0 </td><td>27</td><td>5 </td></tr>\n",
       "\t<tr><td>0 </td><td>0 </td><td>0 </td><td>1 </td><td>0 </td><td>0 </td><td>0 </td><td>0 </td><td>0 </td><td>1 </td><td>0 </td><td>0 </td><td>0 </td><td>19</td><td>6 </td></tr>\n",
       "\t<tr><td>0 </td><td>1 </td><td>0 </td><td>1 </td><td>0 </td><td>0 </td><td>1 </td><td>0 </td><td>0 </td><td>0 </td><td>0 </td><td>1 </td><td>0 </td><td>26</td><td>4 </td></tr>\n",
       "\t<tr><td>0 </td><td>0 </td><td>1 </td><td>0 </td><td>0 </td><td>0 </td><td>0 </td><td>0 </td><td>0 </td><td>1 </td><td>1 </td><td>0 </td><td>0 </td><td>20</td><td>2 </td></tr>\n",
       "\t<tr><td>1 </td><td>1 </td><td>1 </td><td>0 </td><td>0 </td><td>1 </td><td>0 </td><td>0 </td><td>0 </td><td>0 </td><td>0 </td><td>1 </td><td>0 </td><td>24</td><td>3 </td></tr>\n",
       "\t<tr><td>1 </td><td>1 </td><td>0 </td><td>1 </td><td>0 </td><td>0 </td><td>0 </td><td>0 </td><td>0 </td><td>1 </td><td>0 </td><td>1 </td><td>0 </td><td>24</td><td>2 </td></tr>\n",
       "</tbody>\n",
       "</table>\n"
      ],
      "text/latex": [
       "\\begin{tabular}{r|lllllllllllllll}\n",
       " y & w & gender\\_female & gender\\_male & gender\\_transgender & ethnicgrp\\_asian & ethnicgrp\\_black & ethnicgrp\\_mixed\\_multiple & ethnicgrp\\_other & ethnicgrp\\_white & partners1 & postlaunch & msm & age & imd\\_decile\\\\\n",
       "\\hline\n",
       "\t 1  & 1  & 0  & 1  & 0  & 0  & 0  & 1  & 0  & 0  & 0  & 1  & 0  & 27 & 5 \\\\\n",
       "\t 0  & 0  & 0  & 1  & 0  & 0  & 0  & 0  & 0  & 1  & 0  & 0  & 0  & 19 & 6 \\\\\n",
       "\t 0  & 1  & 0  & 1  & 0  & 0  & 1  & 0  & 0  & 0  & 0  & 1  & 0  & 26 & 4 \\\\\n",
       "\t 0  & 0  & 1  & 0  & 0  & 0  & 0  & 0  & 0  & 1  & 1  & 0  & 0  & 20 & 2 \\\\\n",
       "\t 1  & 1  & 1  & 0  & 0  & 1  & 0  & 0  & 0  & 0  & 0  & 1  & 0  & 24 & 3 \\\\\n",
       "\t 1  & 1  & 0  & 1  & 0  & 0  & 0  & 0  & 0  & 1  & 0  & 1  & 0  & 24 & 2 \\\\\n",
       "\\end{tabular}\n"
      ],
      "text/markdown": [
       "\n",
       "| y | w | gender_female | gender_male | gender_transgender | ethnicgrp_asian | ethnicgrp_black | ethnicgrp_mixed_multiple | ethnicgrp_other | ethnicgrp_white | partners1 | postlaunch | msm | age | imd_decile |\n",
       "|---|---|---|---|---|---|---|---|---|---|---|---|---|---|---|\n",
       "| 1  | 1  | 0  | 1  | 0  | 0  | 0  | 1  | 0  | 0  | 0  | 1  | 0  | 27 | 5  |\n",
       "| 0  | 0  | 0  | 1  | 0  | 0  | 0  | 0  | 0  | 1  | 0  | 0  | 0  | 19 | 6  |\n",
       "| 0  | 1  | 0  | 1  | 0  | 0  | 1  | 0  | 0  | 0  | 0  | 1  | 0  | 26 | 4  |\n",
       "| 0  | 0  | 1  | 0  | 0  | 0  | 0  | 0  | 0  | 1  | 1  | 0  | 0  | 20 | 2  |\n",
       "| 1  | 1  | 1  | 0  | 0  | 1  | 0  | 0  | 0  | 0  | 0  | 1  | 0  | 24 | 3  |\n",
       "| 1  | 1  | 0  | 1  | 0  | 0  | 0  | 0  | 0  | 1  | 0  | 1  | 0  | 24 | 2  |\n",
       "\n"
      ],
      "text/plain": [
       "  y w gender_female gender_male gender_transgender ethnicgrp_asian\n",
       "1 1 1 0             1           0                  0              \n",
       "2 0 0 0             1           0                  0              \n",
       "3 0 1 0             1           0                  0              \n",
       "4 0 0 1             0           0                  0              \n",
       "5 1 1 1             0           0                  1              \n",
       "6 1 1 0             1           0                  0              \n",
       "  ethnicgrp_black ethnicgrp_mixed_multiple ethnicgrp_other ethnicgrp_white\n",
       "1 0               1                        0               0              \n",
       "2 0               0                        0               1              \n",
       "3 1               0                        0               0              \n",
       "4 0               0                        0               1              \n",
       "5 0               0                        0               0              \n",
       "6 0               0                        0               1              \n",
       "  partners1 postlaunch msm age imd_decile\n",
       "1 0         1          0   27  5         \n",
       "2 0         0          0   19  6         \n",
       "3 0         1          0   26  4         \n",
       "4 1         0          0   20  2         \n",
       "5 0         1          0   24  3         \n",
       "6 0         1          0   24  2         "
      ]
     },
     "metadata": {},
     "output_type": "display_data"
    }
   ],
   "source": [
    "data=read.csv(\"C:/Users/user/Documents/GitHub/Causal-Inference-Proyect-e---STI/DATA/processed_esti.csv\")\n",
    "head(data)\n",
    "n <- nrow(data)\n",
    "\n",
    "# Treatment: does the the gov't spend too much on \"welfare\" (1) or \"assistance to the poor\" (0)\n",
    "treatment <- \"w\"\n",
    "\n",
    "# Outcome: 1 for 'yes', 0 for 'no'\n",
    "outcome <- \"y\"\n",
    "\n",
    "# Additional covariates\n",
    "covariates <- colnames(data)[-c(1:2)]"
   ]
  },
  {
   "cell_type": "markdown",
   "id": "0ee0a99c-a807-4eaf-882a-b07b10dc32c1",
   "metadata": {},
   "source": [
    "# OLS"
   ]
  },
  {
   "cell_type": "markdown",
   "id": "d24a27c5-4c61-4c96-9823-5fd131754033",
   "metadata": {},
   "source": [
    "## Group=Age"
   ]
  },
  {
   "cell_type": "code",
   "execution_count": 44,
   "id": "3590de70-9544-490a-bc0c-5edace69d852",
   "metadata": {},
   "outputs": [
    {
     "name": "stdout",
     "output_type": "stream",
     "text": [
      "y ~ w * factor(age_group)\n"
     ]
    },
    {
     "data": {
      "text/html": [
       "<table>\n",
       "<thead><tr><th></th><th scope=col>estimate</th><th scope=col>std.err</th><th scope=col>unadj.p.value</th><th scope=col>adj.p.value</th></tr></thead>\n",
       "<tbody>\n",
       "\t<tr><th scope=row>w:factor(age_group)age_20-24</th><td>0.04351246 </td><td>0.05733158 </td><td>0.447978760</td><td>0.895957519</td></tr>\n",
       "\t<tr><th scope=row>w:factor(age_group)age_25-30</th><td>0.16857652 </td><td>0.05892980 </td><td>0.004278644</td><td>0.008557289</td></tr>\n",
       "</tbody>\n",
       "</table>\n"
      ],
      "text/latex": [
       "\\begin{tabular}{r|llll}\n",
       "  & estimate & std.err & unadj.p.value & adj.p.value\\\\\n",
       "\\hline\n",
       "\tw:factor(age\\_group)age\\_20-24 & 0.04351246  & 0.05733158  & 0.447978760 & 0.895957519\\\\\n",
       "\tw:factor(age\\_group)age\\_25-30 & 0.16857652  & 0.05892980  & 0.004278644 & 0.008557289\\\\\n",
       "\\end{tabular}\n"
      ],
      "text/markdown": [
       "\n",
       "| <!--/--> | estimate | std.err | unadj.p.value | adj.p.value |\n",
       "|---|---|---|---|---|\n",
       "| w:factor(age_group)age_20-24 | 0.04351246  | 0.05733158  | 0.447978760 | 0.895957519 |\n",
       "| w:factor(age_group)age_25-30 | 0.16857652  | 0.05892980  | 0.004278644 | 0.008557289 |\n",
       "\n"
      ],
      "text/plain": [
       "                             estimate   std.err    unadj.p.value adj.p.value\n",
       "w:factor(age_group)age_20-24 0.04351246 0.05733158 0.447978760   0.895957519\n",
       "w:factor(age_group)age_25-30 0.16857652 0.05892980 0.004278644   0.008557289"
      ]
     },
     "metadata": {},
     "output_type": "display_data"
    }
   ],
   "source": [
    "group1 <- 'age_group'\n",
    "\n",
    "data <- data %>%\n",
    "  mutate(age_group = ifelse(age %in% 16:19, \"age_16-19\", \n",
    "                            ifelse(age %in% 20:24, \"age_20-24\", \"age_25-30\")))\n",
    "\n",
    "# Linear regression.\n",
    "fmla <- formula(paste(outcome, ' ~ ', treatment, '*', 'factor(', group1, ')'))\n",
    "ols <- lm(fmla, data=data)\n",
    "ols.res <- coeftest(ols, vcov=vcovHC(ols, type='HC2'))\n",
    "\n",
    "# Retrieve the interaction coefficients\n",
    "interact <- which(sapply(names(coef(ols)), function(x) grepl(\"w:\", x)))\n",
    "\n",
    "# Retrieve unadjusted p-values and\n",
    "unadj.p.value <- ols.res[interact, 4]\n",
    "adj.p.value <- p.adjust(unadj.p.value, method='bonferroni')\n",
    "\n",
    "data.frame(estimate=coef(ols)[interact], std.err=ols.res[interact,2], unadj.p.value, adj.p.value)"
   ]
  },
  {
   "cell_type": "code",
   "execution_count": 22,
   "id": "ef0bf484-7064-4d81-a8ba-9621b294daf5",
   "metadata": {},
   "outputs": [
    {
     "data": {
      "text/html": [
       "<table>\n",
       "<thead><tr><th></th><th scope=col>estimate</th><th scope=col>std.err</th><th scope=col>unadj.p.value</th><th scope=col>adj.p.value</th></tr></thead>\n",
       "<tbody>\n",
       "\t<tr><th scope=row>w:age</th><td>0.01727969 </td><td>0.005963226</td><td>0.003806166</td><td>0.003806166</td></tr>\n",
       "</tbody>\n",
       "</table>\n"
      ],
      "text/latex": [
       "\\begin{tabular}{r|llll}\n",
       "  & estimate & std.err & unadj.p.value & adj.p.value\\\\\n",
       "\\hline\n",
       "\tw:age & 0.01727969  & 0.005963226 & 0.003806166 & 0.003806166\\\\\n",
       "\\end{tabular}\n"
      ],
      "text/markdown": [
       "\n",
       "| <!--/--> | estimate | std.err | unadj.p.value | adj.p.value |\n",
       "|---|---|---|---|---|\n",
       "| w:age | 0.01727969  | 0.005963226 | 0.003806166 | 0.003806166 |\n",
       "\n"
      ],
      "text/plain": [
       "      estimate   std.err     unadj.p.value adj.p.value\n",
       "w:age 0.01727969 0.005963226 0.003806166   0.003806166"
      ]
     },
     "metadata": {},
     "output_type": "display_data"
    }
   ],
   "source": [
    "# Linear regression.\n",
    "fmla <- formula(paste(outcome, ' ~ ', treatment, '*', 'age'))\n",
    "ols <- lm(fmla, data=data)\n",
    "ols.res <- coeftest(ols, vcov=vcovHC(ols, type='HC2'))\n",
    "\n",
    "# Retrieve the interaction coefficients\n",
    "interact <- which(sapply(names(coef(ols)), function(x) grepl(\"w:\", x)))\n",
    "\n",
    "# Retrieve unadjusted p-values and\n",
    "unadj.p.value <- ols.res[interact, 4]\n",
    "adj.p.value <- p.adjust(unadj.p.value, method='bonferroni')\n",
    "\n",
    "data.frame(estimate=coef(ols)[interact], std.err=ols.res[interact,2], unadj.p.value, adj.p.value)"
   ]
  },
  {
   "cell_type": "markdown",
   "id": "53717344-584b-4751-9caa-72e66fc3b9fe",
   "metadata": {},
   "source": [
    "## Group=Gender"
   ]
  },
  {
   "cell_type": "code",
   "execution_count": 80,
   "id": "4dd224d4-90d0-42ad-874e-e91daa6f5a8f",
   "metadata": {},
   "outputs": [],
   "source": [
    "data1=data %>%\n",
    "    filter(gender_transgender != 1)"
   ]
  },
  {
   "cell_type": "code",
   "execution_count": 81,
   "id": "f6f1db11-84a8-4cb4-a21c-ed5695f3f58a",
   "metadata": {},
   "outputs": [
    {
     "data": {
      "text/html": [
       "<table>\n",
       "<thead><tr><th></th><th scope=col>estimate</th><th scope=col>std.err</th><th scope=col>unadj.p.value</th><th scope=col>adj.p.value</th></tr></thead>\n",
       "<tbody>\n",
       "\t<tr><th scope=row>w:gender_male</th><td>-0.1522287  </td><td>0.04403134  </td><td>0.0005588516</td><td>0.0005588516</td></tr>\n",
       "</tbody>\n",
       "</table>\n"
      ],
      "text/latex": [
       "\\begin{tabular}{r|llll}\n",
       "  & estimate & std.err & unadj.p.value & adj.p.value\\\\\n",
       "\\hline\n",
       "\tw:gender\\_male & -0.1522287   & 0.04403134   & 0.0005588516 & 0.0005588516\\\\\n",
       "\\end{tabular}\n"
      ],
      "text/markdown": [
       "\n",
       "| <!--/--> | estimate | std.err | unadj.p.value | adj.p.value |\n",
       "|---|---|---|---|---|\n",
       "| w:gender_male | -0.1522287   | 0.04403134   | 0.0005588516 | 0.0005588516 |\n",
       "\n"
      ],
      "text/plain": [
       "              estimate   std.err    unadj.p.value adj.p.value \n",
       "w:gender_male -0.1522287 0.04403134 0.0005588516  0.0005588516"
      ]
     },
     "metadata": {},
     "output_type": "display_data"
    }
   ],
   "source": [
    "# Linear regression.\n",
    "fmla <- formula(paste(outcome, ' ~ ', treatment, '*', 'gender_male'))\n",
    "ols <- lm(fmla, data=data1)\n",
    "ols.res <- coeftest(ols, vcov=vcovHC(ols, type='HC2'))\n",
    "\n",
    "# Retrieve the interaction coefficients\n",
    "interact <- which(sapply(names(coef(ols)), function(x) grepl(\"w:\", x)))\n",
    "\n",
    "# Retrieve unadjusted p-values and\n",
    "unadj.p.value <- ols.res[interact, 4]\n",
    "adj.p.value <- p.adjust(unadj.p.value, method='bonferroni')\n",
    "\n",
    "data.frame(estimate=coef(ols)[interact], std.err=ols.res[interact,2], unadj.p.value, adj.p.value)"
   ]
  },
  {
   "cell_type": "markdown",
   "id": "2124ba19-9524-4d53-8e68-0875a0c31ff4",
   "metadata": {},
   "source": [
    "## Group=ethnic"
   ]
  },
  {
   "cell_type": "code",
   "execution_count": 82,
   "id": "889682e7-57d3-41db-b48e-7a60ea86c926",
   "metadata": {},
   "outputs": [],
   "source": [
    "data2=data %>%\n",
    "    filter(ethnicgrp_other != 1)"
   ]
  },
  {
   "cell_type": "code",
   "execution_count": 83,
   "id": "ea75c9eb-4321-4866-bb0f-891a85779964",
   "metadata": {},
   "outputs": [
    {
     "data": {
      "text/html": [
       "<table>\n",
       "<thead><tr><th></th><th scope=col>estimate</th><th scope=col>std.err</th><th scope=col>unadj.p.value</th><th scope=col>adj.p.value</th></tr></thead>\n",
       "<tbody>\n",
       "\t<tr><th scope=row>w:ethnicgrp_asian</th><td>-0.14228470</td><td>0.08816894 </td><td>0.10676126 </td><td>0.3202838  </td></tr>\n",
       "\t<tr><th scope=row>w:ethnicgrp_black</th><td>-0.07028591</td><td>0.07509534 </td><td>0.34942828 </td><td>1.0000000  </td></tr>\n",
       "\t<tr><th scope=row>w:ethnicgrp_mixed_multiple</th><td>-0.14198413</td><td>0.07547174 </td><td>0.06010261 </td><td>0.1803078  </td></tr>\n",
       "</tbody>\n",
       "</table>\n"
      ],
      "text/latex": [
       "\\begin{tabular}{r|llll}\n",
       "  & estimate & std.err & unadj.p.value & adj.p.value\\\\\n",
       "\\hline\n",
       "\tw:ethnicgrp\\_asian & -0.14228470 & 0.08816894  & 0.10676126  & 0.3202838  \\\\\n",
       "\tw:ethnicgrp\\_black & -0.07028591 & 0.07509534  & 0.34942828  & 1.0000000  \\\\\n",
       "\tw:ethnicgrp\\_mixed\\_multiple & -0.14198413 & 0.07547174  & 0.06010261  & 0.1803078  \\\\\n",
       "\\end{tabular}\n"
      ],
      "text/markdown": [
       "\n",
       "| <!--/--> | estimate | std.err | unadj.p.value | adj.p.value |\n",
       "|---|---|---|---|---|\n",
       "| w:ethnicgrp_asian | -0.14228470 | 0.08816894  | 0.10676126  | 0.3202838   |\n",
       "| w:ethnicgrp_black | -0.07028591 | 0.07509534  | 0.34942828  | 1.0000000   |\n",
       "| w:ethnicgrp_mixed_multiple | -0.14198413 | 0.07547174  | 0.06010261  | 0.1803078   |\n",
       "\n"
      ],
      "text/plain": [
       "                           estimate    std.err    unadj.p.value adj.p.value\n",
       "w:ethnicgrp_asian          -0.14228470 0.08816894 0.10676126    0.3202838  \n",
       "w:ethnicgrp_black          -0.07028591 0.07509534 0.34942828    1.0000000  \n",
       "w:ethnicgrp_mixed_multiple -0.14198413 0.07547174 0.06010261    0.1803078  "
      ]
     },
     "metadata": {},
     "output_type": "display_data"
    }
   ],
   "source": [
    "# Linear regression.\n",
    "ethnic=c('ethnicgrp_asian','ethnicgrp_black','ethnicgrp_mixed_multiple','ethnicgrp_white')\n",
    "interactions <- paste(treatment, \"*\", ethnic, collapse = \" + \")\n",
    "fmla <- formula(paste(outcome, \"~\", interactions))\n",
    "ols <- lm(fmla, data=data2)\n",
    "ols.res <- coeftest(ols, vcov=vcovHC(ols, type='HC2'))\n",
    "# Retrieve the interaction coefficients\n",
    "interact <- c('w:ethnicgrp_asian','w:ethnicgrp_black','w:ethnicgrp_mixed_multiple')\n",
    "                         \n",
    "# Retrieve unadjusted p-values and\n",
    "unadj.p.value <- ols.res[interact, 4]\n",
    "adj.p.value <- p.adjust(unadj.p.value, method='bonferroni')\n",
    "\n",
    "data.frame(estimate=coef(ols)[interact[-4]], std.err=ols.res[interact[-4],2], unadj.p.value, adj.p.value)"
   ]
  },
  {
   "cell_type": "markdown",
   "id": "4f0cc9fb-cb06-430e-9531-2ecbcb5e70ea",
   "metadata": {},
   "source": [
    "# GRF"
   ]
  },
  {
   "cell_type": "code",
   "execution_count": 84,
   "id": "4c56cfc0-3622-4f3e-a3a9-5ccfb5625590",
   "metadata": {},
   "outputs": [
    {
     "data": {
      "text/html": [
       "<table>\n",
       "<thead><tr><th></th><th scope=col>estimate</th><th scope=col>std.err</th><th scope=col>unadj.p.value</th><th scope=col>adj.p.value</th></tr></thead>\n",
       "<tbody>\n",
       "\t<tr><th scope=row>w:ethnicgrp_white</th><td>0.1055596 </td><td>0.04892209</td><td>0.03108737</td><td>0.03108737</td></tr>\n",
       "</tbody>\n",
       "</table>\n"
      ],
      "text/latex": [
       "\\begin{tabular}{r|llll}\n",
       "  & estimate & std.err & unadj.p.value & adj.p.value\\\\\n",
       "\\hline\n",
       "\tw:ethnicgrp\\_white & 0.1055596  & 0.04892209 & 0.03108737 & 0.03108737\\\\\n",
       "\\end{tabular}\n"
      ],
      "text/markdown": [
       "\n",
       "| <!--/--> | estimate | std.err | unadj.p.value | adj.p.value |\n",
       "|---|---|---|---|---|\n",
       "| w:ethnicgrp_white | 0.1055596  | 0.04892209 | 0.03108737 | 0.03108737 |\n",
       "\n"
      ],
      "text/plain": [
       "                  estimate  std.err    unadj.p.value adj.p.value\n",
       "w:ethnicgrp_white 0.1055596 0.04892209 0.03108737    0.03108737 "
      ]
     },
     "metadata": {},
     "output_type": "display_data"
    }
   ],
   "source": [
    "# Linear regression.\n",
    "fmla <- formula(paste(outcome, ' ~ ', treatment, '*', 'ethnicgrp_white'))\n",
    "ols <- lm(fmla, data=data)\n",
    "ols.res <- coeftest(ols, vcov=vcovHC(ols, type='HC2'))\n",
    "\n",
    "# Retrieve the interaction coefficients\n",
    "interact <- which(sapply(names(coef(ols)), function(x) grepl(\"w:\", x)))\n",
    "\n",
    "# Retrieve unadjusted p-values and\n",
    "unadj.p.value <- ols.res[interact, 4]\n",
    "adj.p.value <- p.adjust(unadj.p.value, method='bonferroni')\n",
    "\n",
    "data.frame(estimate=coef(ols)[interact], std.err=ols.res[interact,2], unadj.p.value, adj.p.value)"
   ]
  },
  {
   "cell_type": "code",
   "execution_count": 87,
   "id": "a2d3efc5-787e-4c9e-8bef-937dccdf2bfe",
   "metadata": {},
   "outputs": [
    {
     "name": "stdout",
     "output_type": "stream",
     "text": [
      "   [1] 1 0 1 0 1 1 1 0 1 1 0 0 1 1 1 1 1 1 0 0 0 0 0 1 1 1 0 0 0 1 1 0 1 1 1 0 0\n",
      "  [38] 0 0 1 1 1 1 0 1 1 1 0 0 0 1 1 1 1 0 0 0 1 1 1 0 0 1 1 1 0 0 1 0 0 1 1 1 1\n",
      "  [75] 1 1 1 0 0 1 0 1 1 1 0 1 0 0 0 0 1 0 0 1 1 0 1 0 1 0 1 1 0 0 0 1 1 0 0 0 1\n",
      " [112] 0 1 1 1 0 1 0 1 0 0 1 0 0 1 1 0 1 0 0 0 1 0 0 1 1 1 0 0 1 1 1 1 1 1 0 1 1\n",
      " [149] 1 0 1 0 0 0 0 1 1 1 0 0 0 0 1 1 1 1 0 0 0 0 0 0 1 0 1 0 0 1 0 0 1 1 1 1 0\n",
      " [186] 0 1 0 0 1 1 0 1 1 1 1 1 1 1 1 1 0 1 1 1 0 1 1 1 0 0 1 1 0 0 1 1 0 1 0 0 0\n",
      " [223] 1 1 1 0 0 1 0 0 0 1 0 0 1 1 1 0 0 1 0 1 1 1 1 0 1 0 1 0 0 1 1 0 1 0 1 0 1\n",
      " [260] 1 0 0 0 1 1 0 0 1 1 1 0 0 1 1 1 1 1 0 1 0 0 0 1 1 0 0 1 0 1 1 0 1 0 1 0 0\n",
      " [297] 1 1 0 1 1 0 1 0 1 1 1 0 0 1 0 0 1 0 0 1 0 0 1 0 1 0 1 0 0 0 1 1 0 1 0 1 0\n",
      " [334] 1 0 0 0 1 1 0 0 0 0 1 0 0 0 1 0 0 1 1 1 1 1 0 0 0 0 0 0 0 0 1 1 0 1 0 0 0\n",
      " [371] 1 1 1 1 0 1 0 1 1 1 1 0 1 0 1 0 0 0 1 1 0 1 1 0 0 0 1 1 0 0 1 0 1 0 0 1 1\n",
      " [408] 0 1 0 0 1 1 1 0 1 1 0 0 0 0 1 1 0 0 0 1 0 1 0 1 1 1 0 1 0 1 0 1 0 1 0 1 1\n",
      " [445] 1 1 0 0 1 0 0 1 1 1 0 0 1 0 0 1 0 0 0 0 1 0 0 0 0 1 0 1 1 0 0 0 1 0 0 0 1\n",
      " [482] 1 0 0 1 1 0 0 1 1 0 0 1 0 1 0 1 1 1 0 1 0 1 1 0 0 1 0 1 0 1 0 0 0 1 1 1 1\n",
      " [519] 1 0 0 1 1 1 0 1 0 1 1 0 1 1 1 1 1 1 0 0 1 0 1 1 1 1 1 1 1 0 0 0 1 1 1 1 1\n",
      " [556] 1 0 0 0 1 0 0 0 1 1 1 1 0 1 0 1 1 1 1 1 0 1 0 0 0 1 1 1 1 0 1 0 0 1 0 1 1\n",
      " [593] 0 1 1 1 1 1 1 1 0 0 0 1 0 1 1 0 0 0 0 0 1 1 1 1 1 0 0 1 1 0 0 1 1 0 0 0 1\n",
      " [630] 1 0 1 0 0 1 0 0 1 1 0 0 1 1 0 0 1 1 1 1 0 1 1 0 1 1 1 1 1 0 1 0 1 1 1 1 1\n",
      " [667] 1 1 0 0 1 1 1 1 0 1 0 0 1 0 1 1 1 1 1 1 1 1 0 1 1 1 1 1 0 1 1 0 1 0 1 1 0\n",
      " [704] 0 0 1 0 0 1 0 0 0 1 0 1 1 0 0 1 0 0 1 0 1 0 0 1 0 0 1 0 1 0 0 1 1 0 1 0 0\n",
      " [741] 1 1 1 1 1 0 1 0 0 1 0 0 1 0 0 0 1 0 0 0 1 1 0 1 1 0 0 1 1 1 0 0 0 0 1 1 0\n",
      " [778] 1 1 0 0 0 1 0 0 1 1 1 1 1 1 1 0 0 0 1 1 0 0 0 0 0 0 1 1 0 0 0 0 1 1 0 1 1\n",
      " [815] 1 1 1 1 0 1 0 1 0 1 1 0 0 1 0 0 1 0 1 0 1 1 1 1 0 1 1 0 1 1 1 1 1 1 1 1 1\n",
      " [852] 0 1 1 1 0 0 0 0 0 1 1 1 1 0 1 0 0 0 1 1 0 1 1 1 0 1 0 1 1 1 0 1 1 1 0 1 0\n",
      " [889] 1 1 1 0 0 0 1 1 1 1 1 1 0 0 0 0 1 1 0 1 1 1 0 1 1 1 0 1 1 0 1 0 1 1 0 0 0\n",
      " [926] 1 1 1 0 0 1 1 1 0 0 1 1 1 1 1 1 1 0 1 1 0 1 1 1 0 1 0 1 0 1 1 0 0 1 1 0 0\n",
      " [963] 0 1 0 1 0 1 1 1 1 1 0 1 1 1 1 1 1 1 1 0 0 0 0 1 0 1 1 0 1 1 1 1 0 1 0 0 0\n",
      "[1000] 0 0 1 0 1 1 1 1 1 0 0 0 1 1 0 1 0 0 0 0 1 0 1 1 1 1 1 1 0 0 1 1 0 1 1 0 1\n",
      "[1037] 1 1 1 0 0 1 1 0 0 0 0 0 0 1 0 0 1 0 1 1 0 1 1 1 0 1 0 0 1 0 1 1 0 0 0 0 1\n",
      "[1074] 1 0 1 1 0 0 1 1 1 0 0 1 0 1 0 0 1 0 0 1 0 0 1 1 1 1 0 1 1 0 0 0 0 1 1 0 1\n",
      "[1111] 1 1 0 0 1 1 0 0 1 0 0 1 1 0 0 0 0 1 1 1 0 0 1 0 0 1 1 1 1 0 1 0 0 1 0 1 0\n",
      "[1148] 0 1 0 0 1 0 0 1 1 0 0 0 0 0 1 1 0 0 0 1 0 0 0 1 0 1 1 1 0 1 1 1 1 1 0 1 1\n",
      "[1185] 0 1 0 1 0 0 1 0 1 1 1 1 1 0 0 1 0 1 1 1 1 1 0 0 0 1 0 0 0 1 1 0 0 0 1 1 1\n",
      "[1222] 0 1 0 1 0 1 1 1 1 1 1 0 0 1 1 0 0 1 1 1 1 1 0 1 0 0 1 1 1 0 0 1 1 1 0 1 0\n",
      "[1259] 0 1 1 1 0 1 1 0 1 0 0 0 1 1 1 0 1 1 0 0 1 1 1 1 0 0 0 0 0 0 1 1 1 0 0 1 1\n",
      "[1296] 0 0 0 1 1 1 1 0 1 1 1 1 1 1 1 1 0 0 1 0 1 1 0 0 0 1 1 0 1 0 0 0 0 1 1 1 0\n",
      "[1333] 1 0 1 1 1 0 1 0 0 1 0 1 0 1 0 0 0 0 1 1 1 0 1 0 1 1 1 1 0 1 1 1 1 0 0 1 0\n",
      "[1370] 1 0 0 1 0 1 0 1 0 0 1 1 0 0 0 1 1 0 1 0 0 1 0 0 0 1 1 0 0 0 1 0 1 1 1 1 0\n",
      "[1407] 0 0 0 1 0 1 1 1 0 1 1 0 0 0 0 1 0 0 1 0 1 0 0 0 0 0 0 1 1 0 0 1 1 1 0 0 0\n",
      "[1444] 0 1 0 1 1 1 0 1 1 0 1 0 0 0 1 1 0 0 1 1 0 1 1 0 0 0 1 0 0 0 1 0 1 0 1 1 1\n",
      "[1481] 1 1 0 1 0 0 1 1 0 0 0 0 1 1 0 1 0 1 0 0 0 1 1 1 1 1 0 1 1 0 0 0 0 1 1 1 1\n",
      "[1518] 0 1 1 0 1 0 0 0 0 0 0 1 0 1 1 0 1 0 0 0 1 0 0 0 0 1 1 1 1 0 0 0 0 0 1 0 1\n",
      "[1555] 0 1 1 0 0 1 0 0 0 0 0 0 1 0 0 0 1 0 1 1 1 0 1 0 0 0 0 1 1 0 1 0 0 1 1 0 1\n",
      "[1592] 1 0 0 0 1 1 0 1 1 0 1 0 0 1 0 1 1 0 1 0 1 1 1 0 1 1 1 1 0 0 1 0 0 1 1 1 0\n",
      "[1629] 1 0 0 0 0 1 0 0 0 1 1 1 0 0 1 1 1 0 1 1 1 0 0 1 0 0 1 0 0 1 1 0 1 0 1 1 1\n",
      "[1666] 0 1 0 0 1 0 1 1 1 1 1 0 1 1 0 0 0 0 0 0 0 0 1 1 1 0 0 0 1 0 1 0 1 1 0 0 0\n",
      "[1703] 1 1 1 1 1 0 1 0 0 0 0 1 1 1 1 1 1 0 1 0 1 1 0 0 0 0 0 0 0 0 1 0 0 1 1 1 1\n"
     ]
    }
   ],
   "source": [
    "fmla <- formula(paste0(\"~ 0 +\", paste0(covariates, collapse=\"+\")))\n",
    "XX <- model.matrix(fmla, data)\n",
    "W <- data[,treatment]\n",
    "Y <- data[,outcome]\n",
    "\n",
    "# Comment or uncomment as appropriate.\n",
    "# Randomized setting with known and fixed probabilities (here: 0.5).\n",
    "\n",
    "forest.tau <- causal_forest(XX, Y, W, W.hat=.5) "
   ]
  },
  {
   "cell_type": "code",
   "execution_count": 86,
   "id": "c1b9abc4-30be-4cf8-b999-cc2378385955",
   "metadata": {},
   "outputs": [],
   "source": [
    "# Get predictions from forest fitted above.\n",
    "tau.hat <- predict(forest.tau)$predictions  # tau(X) estimates"
   ]
  },
  {
   "cell_type": "code",
   "execution_count": 88,
   "id": "7d8b52d6-f413-4406-81e0-0e339e3af68a",
   "metadata": {},
   "outputs": [
    {
     "data": {
      "image/png": "[encoded data removed]",
      "text/plain": [
       "Plot with title \"CATE estimates\""
      ]
     },
     "metadata": {},
     "output_type": "display_data"
    }
   ],
   "source": [
    "# Do not use this for assessing heterogeneity. See text above.\n",
    "hist(tau.hat, main=\"CATE estimates\", freq=F)"
   ]
  },
  {
   "cell_type": "code",
   "execution_count": 90,
   "id": "74406665-a80d-4702-bd2b-07a4bb8957fe",
   "metadata": {},
   "outputs": [
    {
     "name": "stdout",
     "output_type": "stream",
     "text": [
      "                     age               postlaunch              gender_male \n",
      "              0.34725263               0.20106234               0.12757569 \n",
      "              imd_decile          ethnicgrp_white            gender_female \n",
      "              0.09497790               0.06046560               0.04278849 \n",
      "                     msm ethnicgrp_mixed_multiple                partners1 \n",
      "              0.03730067               0.02957613               0.02358838 \n",
      "         ethnicgrp_asian          ethnicgrp_black       gender_transgender \n",
      "              0.02344375               0.01196842               0.00000000 \n",
      "         ethnicgrp_other \n",
      "              0.00000000 \n"
     ]
    }
   ],
   "source": [
    "var_imp <- c(variable_importance(forest.tau))\n",
    "names(var_imp) <- covariates\n",
    "sorted_var_imp <- sort(var_imp, decreasing = TRUE)\n",
    "print(sorted_var_imp)"
   ]
  },
  {
   "cell_type": "code",
   "execution_count": 91,
   "id": "2fd0ddb2-33f6-4364-9c06-af88cc6fface",
   "metadata": {},
   "outputs": [],
   "source": [
    "var_imp <- c(variable_importance(forest.tau))"
   ]
  },
  {
   "cell_type": "code",
   "execution_count": 92,
   "id": "b4c9c38b-065c-4c78-8f57-d6e0c8f74c49",
   "metadata": {},
   "outputs": [],
   "source": [
    "var_imp <- c(variable_importance(forest.tau))\n",
    "names(var_imp) <- covariates\n",
    "sorted_var_imp <- sort(var_imp, decreasing = TRUE)"
   ]
  },
  {
   "cell_type": "code",
   "execution_count": 93,
   "id": "c730aea4-5a16-4fde-9367-545f6b756947",
   "metadata": {},
   "outputs": [
    {
     "data": {
      "text/html": [
       "<dl class=dl-horizontal>\n",
       "\t<dt>age</dt>\n",
       "\t\t<dd>0.347252625001333</dd>\n",
       "\t<dt>postlaunch</dt>\n",
       "\t\t<dd>0.20106234299845</dd>\n",
       "\t<dt>gender_male</dt>\n",
       "\t\t<dd>0.127575692529988</dd>\n",
       "\t<dt>imd_decile</dt>\n",
       "\t\t<dd>0.0949779031723934</dd>\n",
       "\t<dt>ethnicgrp_white</dt>\n",
       "\t\t<dd>0.0604655998433808</dd>\n",
       "\t<dt>gender_female</dt>\n",
       "\t\t<dd>0.042788491871841</dd>\n",
       "\t<dt>msm</dt>\n",
       "\t\t<dd>0.0373006697318448</dd>\n",
       "\t<dt>ethnicgrp_mixed_multiple</dt>\n",
       "\t\t<dd>0.0295761289022703</dd>\n",
       "\t<dt>partners1</dt>\n",
       "\t\t<dd>0.0235883791246215</dd>\n",
       "\t<dt>ethnicgrp_asian</dt>\n",
       "\t\t<dd>0.023443750981961</dd>\n",
       "\t<dt>ethnicgrp_black</dt>\n",
       "\t\t<dd>0.0119684158419158</dd>\n",
       "\t<dt>gender_transgender</dt>\n",
       "\t\t<dd>0</dd>\n",
       "\t<dt>ethnicgrp_other</dt>\n",
       "\t\t<dd>0</dd>\n",
       "</dl>\n"
      ],
      "text/latex": [
       "\\begin{description*}\n",
       "\\item[age] 0.347252625001333\n",
       "\\item[postlaunch] 0.20106234299845\n",
       "\\item[gender\\textbackslash{}\\_male] 0.127575692529988\n",
       "\\item[imd\\textbackslash{}\\_decile] 0.0949779031723934\n",
       "\\item[ethnicgrp\\textbackslash{}\\_white] 0.0604655998433808\n",
       "\\item[gender\\textbackslash{}\\_female] 0.042788491871841\n",
       "\\item[msm] 0.0373006697318448\n",
       "\\item[ethnicgrp\\textbackslash{}\\_mixed\\textbackslash{}\\_multiple] 0.0295761289022703\n",
       "\\item[partners1] 0.0235883791246215\n",
       "\\item[ethnicgrp\\textbackslash{}\\_asian] 0.023443750981961\n",
       "\\item[ethnicgrp\\textbackslash{}\\_black] 0.0119684158419158\n",
       "\\item[gender\\textbackslash{}\\_transgender] 0\n",
       "\\item[ethnicgrp\\textbackslash{}\\_other] 0\n",
       "\\end{description*}\n"
      ],
      "text/markdown": [
       "age\n",
       ":   0.347252625001333postlaunch\n",
       ":   0.20106234299845gender_male\n",
       ":   0.127575692529988imd_decile\n",
       ":   0.0949779031723934ethnicgrp_white\n",
       ":   0.0604655998433808gender_female\n",
       ":   0.042788491871841msm\n",
       ":   0.0373006697318448ethnicgrp_mixed_multiple\n",
       ":   0.0295761289022703partners1\n",
       ":   0.0235883791246215ethnicgrp_asian\n",
       ":   0.023443750981961ethnicgrp_black\n",
       ":   0.0119684158419158gender_transgender\n",
       ":   0ethnicgrp_other\n",
       ":   0\n",
       "\n"
      ],
      "text/plain": [
       "                     age               postlaunch              gender_male \n",
       "              0.34725263               0.20106234               0.12757569 \n",
       "              imd_decile          ethnicgrp_white            gender_female \n",
       "              0.09497790               0.06046560               0.04278849 \n",
       "                     msm ethnicgrp_mixed_multiple                partners1 \n",
       "              0.03730067               0.02957613               0.02358838 \n",
       "         ethnicgrp_asian          ethnicgrp_black       gender_transgender \n",
       "              0.02344375               0.01196842               0.00000000 \n",
       "         ethnicgrp_other \n",
       "              0.00000000 "
      ]
     },
     "metadata": {},
     "output_type": "display_data"
    }
   ],
   "source": [
    "sorted_var_imp"
   ]
  },
  {
   "cell_type": "code",
   "execution_count": 94,
   "id": "953fb904-9f3f-457c-b24b-0a264d36b013",
   "metadata": {},
   "outputs": [],
   "source": [
    "# Valid randomized data and observational data with unconfoundedness+overlap.\n",
    "# Note: read the comments below carefully. \n",
    "# In randomized settings, do not estimate forest.e and e.hat; use known assignment probs.\n",
    "\n",
    "# Prepare dataset\n",
    "fmla <- formula(paste0(\"~ 0 + \", paste0(covariates, collapse=\"+\")))\n",
    "X <- model.matrix(fmla, data)\n",
    "W <- data[,treatment]\n",
    "Y <- data[,outcome]\n",
    "\n",
    "# Number of rankings that the predictions will be ranking on \n",
    "# (e.g., 2 for above/below median estimated CATE, 5 for estimated CATE quintiles, etc.)\n",
    "num.rankings <- 5  \n",
    "\n",
    "# Prepare for data.splitting\n",
    "# Assign a fold number to each observation.\n",
    "# The argument 'clusters' in the next step will mimick K-fold cross-fitting.\n",
    "num.folds <- 10\n",
    "folds <- sort(seq(n) %% num.folds) + 1\n",
    "\n",
    "# Comment or uncomment depending on your setting.\n",
    "# Observational setting with unconfoundedness+overlap (unknown assignment probs):\n",
    "# forest <- causal_forest(X, Y, W, clusters = folds)\n",
    "# Randomized settings with fixed and known probabilities (here: 0.5).\n",
    "forest <- causal_forest(X, Y, W, W.hat=.5, clusters = folds)\n",
    "\n",
    "# Retrieve out-of-bag predictions.\n",
    "# Predictions for observation in fold k will be computed using \n",
    "# trees that were not trained using observations for that fold.\n",
    "tau.hat <- predict(forest)$predictions\n",
    "\n",
    "# Rank observations *within each fold* into quintiles according to their CATE predictions.\n",
    "ranking <- rep(NA, n)\n",
    "for (fold in seq(num.folds)) {\n",
    "  tau.hat.quantiles <- quantile(tau.hat[folds == fold], probs = seq(0, 1, by=1/num.rankings))\n",
    "  ranking[folds == fold] <- cut(tau.hat[folds == fold], tau.hat.quantiles, include.lowest=TRUE,labels=seq(num.rankings))\n",
    "}"
   ]
  },
  {
   "cell_type": "code",
   "execution_count": 95,
   "id": "d2d2a4fe-d7ca-42ad-a47e-9183bd788030",
   "metadata": {},
   "outputs": [
    {
     "data": {
      "text/html": [
       "<table>\n",
       "<thead><tr><th scope=col>method</th><th scope=col>ranking</th><th scope=col>estimate</th><th scope=col>std.err</th></tr></thead>\n",
       "<tbody>\n",
       "\t<tr><td>ols       </td><td>Q1        </td><td>0.1866998 </td><td>0.04711210</td></tr>\n",
       "\t<tr><td>ols       </td><td>Q2        </td><td>0.2731882 </td><td>0.04544863</td></tr>\n",
       "\t<tr><td>ols       </td><td>Q3        </td><td>0.2439033 </td><td>0.04891376</td></tr>\n",
       "\t<tr><td>ols       </td><td>Q4        </td><td>0.2399434 </td><td>0.05044520</td></tr>\n",
       "\t<tr><td>ols       </td><td>Q5        </td><td>0.3413003 </td><td>0.05064892</td></tr>\n",
       "</tbody>\n",
       "</table>\n"
      ],
      "text/latex": [
       "\\begin{tabular}{r|llll}\n",
       " method & ranking & estimate & std.err\\\\\n",
       "\\hline\n",
       "\t ols        & Q1         & 0.1866998  & 0.04711210\\\\\n",
       "\t ols        & Q2         & 0.2731882  & 0.04544863\\\\\n",
       "\t ols        & Q3         & 0.2439033  & 0.04891376\\\\\n",
       "\t ols        & Q4         & 0.2399434  & 0.05044520\\\\\n",
       "\t ols        & Q5         & 0.3413003  & 0.05064892\\\\\n",
       "\\end{tabular}\n"
      ],
      "text/markdown": [
       "\n",
       "| method | ranking | estimate | std.err |\n",
       "|---|---|---|---|\n",
       "| ols        | Q1         | 0.1866998  | 0.04711210 |\n",
       "| ols        | Q2         | 0.2731882  | 0.04544863 |\n",
       "| ols        | Q3         | 0.2439033  | 0.04891376 |\n",
       "| ols        | Q4         | 0.2399434  | 0.05044520 |\n",
       "| ols        | Q5         | 0.3413003  | 0.05064892 |\n",
       "\n"
      ],
      "text/plain": [
       "  method ranking estimate  std.err   \n",
       "1 ols    Q1      0.1866998 0.04711210\n",
       "2 ols    Q2      0.2731882 0.04544863\n",
       "3 ols    Q3      0.2439033 0.04891376\n",
       "4 ols    Q4      0.2399434 0.05044520\n",
       "5 ols    Q5      0.3413003 0.05064892"
      ]
     },
     "metadata": {},
     "output_type": "display_data"
    }
   ],
   "source": [
    "# Valid only in randomized settings.\n",
    "# Average difference-in-means within each ranking\n",
    "\n",
    "# Formula y ~ 0 + ranking + ranking:w\n",
    "fmla <- paste0(outcome, \" ~ 0 + ranking + ranking:\", treatment)\n",
    "ols.ate <- lm(fmla, data=transform(data, ranking=factor(ranking)))\n",
    "ols.ate <- coeftest(ols.ate, vcov=vcovHC(ols.ate, type='HC2'))\n",
    "interact <- which(grepl(\":\", rownames(ols.ate)))\n",
    "ols.ate <- data.frame(\"ols\", paste0(\"Q\", seq(num.rankings)), ols.ate[interact, 1:2])\n",
    "rownames(ols.ate) <- NULL # just for display\n",
    "colnames(ols.ate) <- c(\"method\", \"ranking\", \"estimate\", \"std.err\")\n",
    "ols.ate"
   ]
  },
  {
   "cell_type": "code",
   "execution_count": 96,
   "id": "87e8437d-95b5-444c-b22a-65edd77c81a0",
   "metadata": {},
   "outputs": [
    {
     "data": {
      "text/html": [
       "<table>\n",
       "<thead><tr><th scope=col>method</th><th scope=col>ranking</th><th scope=col>estimate</th><th scope=col>std.err</th></tr></thead>\n",
       "<tbody>\n",
       "\t<tr><td>aipw      </td><td>Q1        </td><td>0.1848292 </td><td>0.04705391</td></tr>\n",
       "\t<tr><td>aipw      </td><td>Q2        </td><td>0.2621798 </td><td>0.04501666</td></tr>\n",
       "\t<tr><td>aipw      </td><td>Q3        </td><td>0.2459015 </td><td>0.04867426</td></tr>\n",
       "\t<tr><td>aipw      </td><td>Q4        </td><td>0.2090515 </td><td>0.05029579</td></tr>\n",
       "\t<tr><td>aipw      </td><td>Q5        </td><td>0.3323936 </td><td>0.05100606</td></tr>\n",
       "</tbody>\n",
       "</table>\n"
      ],
      "text/latex": [
       "\\begin{tabular}{r|llll}\n",
       " method & ranking & estimate & std.err\\\\\n",
       "\\hline\n",
       "\t aipw       & Q1         & 0.1848292  & 0.04705391\\\\\n",
       "\t aipw       & Q2         & 0.2621798  & 0.04501666\\\\\n",
       "\t aipw       & Q3         & 0.2459015  & 0.04867426\\\\\n",
       "\t aipw       & Q4         & 0.2090515  & 0.05029579\\\\\n",
       "\t aipw       & Q5         & 0.3323936  & 0.05100606\\\\\n",
       "\\end{tabular}\n"
      ],
      "text/markdown": [
       "\n",
       "| method | ranking | estimate | std.err |\n",
       "|---|---|---|---|\n",
       "| aipw       | Q1         | 0.1848292  | 0.04705391 |\n",
       "| aipw       | Q2         | 0.2621798  | 0.04501666 |\n",
       "| aipw       | Q3         | 0.2459015  | 0.04867426 |\n",
       "| aipw       | Q4         | 0.2090515  | 0.05029579 |\n",
       "| aipw       | Q5         | 0.3323936  | 0.05100606 |\n",
       "\n"
      ],
      "text/plain": [
       "  method ranking estimate  std.err   \n",
       "1 aipw   Q1      0.1848292 0.04705391\n",
       "2 aipw   Q2      0.2621798 0.04501666\n",
       "3 aipw   Q3      0.2459015 0.04867426\n",
       "4 aipw   Q4      0.2090515 0.05029579\n",
       "5 aipw   Q5      0.3323936 0.05100606"
      ]
     },
     "metadata": {},
     "output_type": "display_data"
    }
   ],
   "source": [
    "# Computing AIPW scores.\n",
    "tau.hat <- predict(forest)$predictions\n",
    "e.hat <- forest$W.hat # P[W=1|X]\n",
    "m.hat <- forest$Y.hat # E[Y|X]\n",
    "\n",
    "# Estimating mu.hat(X, 1) and mu.hat(X, 0) for obs in held-out sample\n",
    "# Note: to understand this, read equations 6-8 in this vignette:\n",
    "# https://grf-labs.github.io/grf/articles/muhats.html\n",
    "mu.hat.0 <- m.hat - e.hat * tau.hat        # E[Y|X,W=0] = E[Y|X] - e(X)*tau(X)\n",
    "mu.hat.1 <- m.hat + (1 - e.hat) * tau.hat  # E[Y|X,W=1] = E[Y|X] + (1 - e(X))*tau(X)\n",
    "\n",
    "# AIPW scores\n",
    "aipw.scores <- tau.hat + W / e.hat * (Y -  mu.hat.1) - (1 - W) / (1 - e.hat) * (Y -  mu.hat.0)\n",
    "\n",
    "ols <- lm(aipw.scores ~ 0 + factor(ranking))\n",
    "forest.ate <- data.frame(\"aipw\", paste0(\"Q\", seq(num.rankings)), coeftest(ols, vcov=vcovHC(ols, \"HC2\"))[,1:2])\n",
    "colnames(forest.ate) <- c(\"method\", \"ranking\", \"estimate\", \"std.err\")\n",
    "rownames(forest.ate) <- NULL # just for display\n",
    "forest.ate"
   ]
  },
  {
   "cell_type": "code",
   "execution_count": 97,
   "id": "93c34756-7230-4f3f-a6e1-29fadf399431",
   "metadata": {},
   "outputs": [
    {
     "data": {
      "image/png": "[encoded data removed]",
      "text/plain": [
       "plot without title"
      ]
     },
     "metadata": {},
     "output_type": "display_data"
    }
   ],
   "source": [
    "# Concatenate the two results.\n",
    "res <- rbind(forest.ate, ols.ate)\n",
    "\n",
    "# Plotting the point estimate of average treatment effect \n",
    "# and 95% confidence intervals around it.\n",
    "ggplot(res) +\n",
    "  aes(x = ranking, y = estimate, group=method, color=method) + \n",
    "  geom_point(position=position_dodge(0.2)) +\n",
    "  geom_errorbar(aes(ymin=estimate-2*std.err, ymax=estimate+2*std.err), width=.2, position=position_dodge(0.2)) +\n",
    "  ylab(\"\") + xlab(\"\") +\n",
    "  ggtitle(\"Average CATE within each ranking (as defined by predicted CATE)\") +\n",
    "  theme_minimal() +\n",
    "  theme(legend.position=\"bottom\", legend.title = element_blank())"
   ]
  },
  {
   "cell_type": "code",
   "execution_count": 101,
   "id": "47c5ff89-b893-4cd3-8188-e4387c18e332",
   "metadata": {},
   "outputs": [
    {
     "data": {
      "text/html": [
       "<table>\n",
       "<thead><tr><th></th><th scope=col>Estimate</th><th scope=col>Std. Error</th><th scope=col>Orig. p-value</th><th scope=col>Adj. p-value</th></tr></thead>\n",
       "<tbody>\n",
       "\t<tr><th scope=row>Rank 2 - Rank 1</th><td>0.08648841</td><td>0.06860484</td><td>0.2075961 </td><td>0.4486    </td></tr>\n",
       "\t<tr><th scope=row>Rank 3 - Rank 1</th><td>0.05720351</td><td>0.06903945</td><td>0.4074663 </td><td>0.6225    </td></tr>\n",
       "\t<tr><th scope=row>Rank 4 - Rank 1</th><td>0.05324364</td><td>0.06902913</td><td>0.4406219 </td><td>0.6225    </td></tr>\n",
       "\t<tr><th scope=row>Rank 5 - Rank 1</th><td>0.15460049</td><td>0.06909074</td><td>0.0253712 </td><td>0.0818    </td></tr>\n",
       "</tbody>\n",
       "</table>\n"
      ],
      "text/latex": [
       "\\begin{tabular}{r|llll}\n",
       "  & Estimate & Std. Error & Orig. p-value & Adj. p-value\\\\\n",
       "\\hline\n",
       "\tRank 2 - Rank 1 & 0.08648841 & 0.06860484 & 0.2075961  & 0.4486    \\\\\n",
       "\tRank 3 - Rank 1 & 0.05720351 & 0.06903945 & 0.4074663  & 0.6225    \\\\\n",
       "\tRank 4 - Rank 1 & 0.05324364 & 0.06902913 & 0.4406219  & 0.6225    \\\\\n",
       "\tRank 5 - Rank 1 & 0.15460049 & 0.06909074 & 0.0253712  & 0.0818    \\\\\n",
       "\\end{tabular}\n"
      ],
      "text/markdown": [
       "\n",
       "| <!--/--> | Estimate | Std. Error | Orig. p-value | Adj. p-value |\n",
       "|---|---|---|---|---|\n",
       "| Rank 2 - Rank 1 | 0.08648841 | 0.06860484 | 0.2075961  | 0.4486     |\n",
       "| Rank 3 - Rank 1 | 0.05720351 | 0.06903945 | 0.4074663  | 0.6225     |\n",
       "| Rank 4 - Rank 1 | 0.05324364 | 0.06902913 | 0.4406219  | 0.6225     |\n",
       "| Rank 5 - Rank 1 | 0.15460049 | 0.06909074 | 0.0253712  | 0.0818     |\n",
       "\n"
      ],
      "text/plain": [
       "                Estimate   Std. Error Orig. p-value Adj. p-value\n",
       "Rank 2 - Rank 1 0.08648841 0.06860484 0.2075961     0.4486      \n",
       "Rank 3 - Rank 1 0.05720351 0.06903945 0.4074663     0.6225      \n",
       "Rank 4 - Rank 1 0.05324364 0.06902913 0.4406219     0.6225      \n",
       "Rank 5 - Rank 1 0.15460049 0.06909074 0.0253712     0.0818      "
      ]
     },
     "metadata": {},
     "output_type": "display_data"
    }
   ],
   "source": [
    "romano_wolf_correction <- function(t.orig, t.boot) {\n",
    "  abs.t.orig <- abs(t.orig)\n",
    "  abs.t.boot <- abs(t.boot)\n",
    "  abs.t.sorted <- sort(abs.t.orig, decreasing = TRUE)\n",
    "\n",
    "  max.order <- order(abs.t.orig, decreasing = TRUE)\n",
    "  rev.order <- order(max.order)\n",
    "\n",
    "  M <- nrow(t.boot)\n",
    "  S <- ncol(t.boot)\n",
    "\n",
    "  p.adj <- rep(0, S)\n",
    "  p.adj[1] <- mean(apply(abs.t.boot, 1, max) > abs.t.sorted[1])\n",
    "  for (s in seq(2, S)) {\n",
    "    cur.index <- max.order[s:S]\n",
    "    p.init <- mean(apply(abs.t.boot[, cur.index, drop=FALSE], 1, max) > abs.t.sorted[s])\n",
    "    p.adj[s] <- max(p.init, p.adj[s-1])\n",
    "  }\n",
    "  p.adj[rev.order]\n",
    "}\n",
    "\n",
    "summary_rw_lm <- function(model, indices=NULL, cov.type=\"HC2\", num.boot=10000) {\n",
    "\n",
    "  if (is.null(indices)) {\n",
    "    indices <- 1:nrow(coef(summary(model)))\n",
    "  }\n",
    "  # Grab the original t values.\n",
    "  summary <- coef(summary(model))[indices,,drop=FALSE]\n",
    "  t.orig <- summary[, \"t value\"]\n",
    "\n",
    "  # Null resampling.\n",
    "  # This is a trick to speed up bootstrapping linear models.\n",
    "  # Here, we don't really need to re-fit linear regressions, which would be a bit slow.\n",
    "  # We know that betahat ~ N(beta, Sigma), and we have an estimate Sigmahat.\n",
    "  # So we can approximate \"null t-values\" by\n",
    "  #  - Draw beta.boot ~ N(0, Sigma-hat) --- note the 0 here, this is what makes it a *null* t-value.\n",
    "  #  - Compute t.boot = beta.boot / sqrt(diag(Sigma.hat))\n",
    "  Sigma.hat <- vcovHC(model, type=cov.type)[indices, indices]\n",
    "  se.orig <- sqrt(diag(Sigma.hat))\n",
    "  num.coef <- length(se.orig)\n",
    "  beta.boot <- mvrnorm(n=num.boot, mu=rep(0, num.coef), Sigma=Sigma.hat)\n",
    "  t.boot <- sweep(beta.boot, 2, se.orig, \"/\")\n",
    "  p.adj <- romano_wolf_correction(t.orig, t.boot)\n",
    "\n",
    "  result <- cbind(summary[,c(1,2,4),drop=F], p.adj)\n",
    "  colnames(result) <- c('Estimate', 'Std. Error', 'Orig. p-value', 'Adj. p-value')\n",
    "  result\n",
    "}\n",
    "\n",
    "# Valid in randomized settings only.\n",
    "\n",
    "# y ~ ranking + w + ranking:w\n",
    "fmla <- paste0(outcome, \"~ ranking + \", treatment, \" + ranking:\", treatment) \n",
    "ols <- lm(fmla, data=transform(data, ranking=factor(ranking)))\n",
    "interact <- which(sapply(names(coef(ols)), function(x) grepl(\":\", x)))\n",
    "res <- summary_rw_lm(ols, indices=interact)\n",
    "rownames(res) <- paste(\"Rank\", 2:num.rankings, \"- Rank 1\") # just for display\n",
    "res"
   ]
  },
  {
   "cell_type": "code",
   "execution_count": 107,
   "id": "3984304f-2d36-444e-b85a-b50fbe2cd1bb",
   "metadata": {},
   "outputs": [
    {
     "name": "stderr",
     "output_type": "stream",
     "text": [
      "Saving 6.67 x 6.67 in image\n"
     ]
    },
    {
     "data": {
      "image/png": "[encoded data removed]",
      "text/plain": [
       "plot without title"
      ]
     },
     "metadata": {},
     "output_type": "display_data"
    }
   ],
   "source": [
    "df <- mapply(function(covariate) {\n",
    "      # Looping over covariate names\n",
    "      # Compute average covariate value per ranking (with correct standard errors)\n",
    "      fmla <- formula(paste0(covariate, \"~ 0 + ranking\"))\n",
    "      ols <- lm(fmla, data=transform(data, ranking=factor(ranking)))\n",
    "      ols.res <- coeftest(ols, vcov=vcovHC(ols, \"HC2\"))\n",
    "    \n",
    "      # Retrieve results\n",
    "      avg <- ols.res[,1]\n",
    "      stderr <- ols.res[,2]\n",
    "      \n",
    "      # Tally up results\n",
    "      data.frame(covariate, avg, stderr, ranking=paste0(\"Q\", seq(num.rankings)), \n",
    "                 # Used for coloring\n",
    "                 scaling=pnorm((avg - mean(avg))/sd(avg)), \n",
    "                 # We will order based on how much variation is 'explain' by the averages\n",
    "                 # relative to the total variation of the covariate in the data\n",
    "                 variation=sd(avg) / sd(data[,covariate]),\n",
    "                 # String to print in each cell in heatmap below\n",
    "                 labels=paste0(signif(avg, 3), \"\\n\", \"(\", signif(stderr, 3), \")\"))\n",
    "}, covariates, SIMPLIFY = FALSE)\n",
    "\n",
    "df <- do.call(rbind, df)\n",
    "\n",
    "# a small optional trick to ensure heatmap will be in decreasing order of 'variation'\n",
    "df$covariate <- reorder(df$covariate, order(df$variation))\n",
    "\n",
    "# plot heatmap\n",
    "grph=ggplot(df) +\n",
    "    aes(ranking, covariate) +\n",
    "    geom_tile(aes(fill = scaling)) + \n",
    "    geom_text(aes(label = labels)) +\n",
    "    scale_fill_gradient(low = \"#E1BE6A\", high = \"#40B0A6\") +\n",
    "    ggtitle(paste0(\"Average covariate values within group (based on CATE estimate ranking)\")) +\n",
    "    theme_minimal() + \n",
    "    ylab(\"\") + xlab(\"CATE estimate ranking\") +\n",
    "    theme(plot.title = element_text(size = 11, face = \"bold\"),\n",
    "          axis.text=element_text(size=11)) \n",
    "print(grph)\n",
    "ggsave(filename = \"grafico.png\")"
   ]
  },
  {
   "cell_type": "code",
   "execution_count": 108,
   "id": "2c5ea7f6-3c01-4f23-8e3c-5b69116ed581",
   "metadata": {},
   "outputs": [
    {
     "name": "stdout",
     "output_type": "stream",
     "text": [
      "\n",
      "Best linear projection of the conditional average treatment effect.\n",
      "Confidence intervals are cluster- and heteroskedasticity-robust (HC3):\n",
      "\n",
      "                           Estimate Std. Error t value  Pr(>|t|)    \n",
      "(Intercept)               0.7255804  0.3077853  2.3574 0.0185133 *  \n",
      "gender_female            -0.8069039  0.2740533 -2.9443 0.0032798 ** \n",
      "gender_male              -0.9469215  0.2751514 -3.4415 0.0005924 ***\n",
      "ethnicgrp_asian          -0.1528768  0.0865959 -1.7654 0.0776725 .  \n",
      "ethnicgrp_black          -0.0487450  0.0768681 -0.6341 0.5260747    \n",
      "ethnicgrp_mixed_multiple -0.1393021  0.0743493 -1.8736 0.0611521 .  \n",
      "ethnicgrp_other           0.0887715  0.2042912  0.4345 0.6639548    \n",
      "partners1                 0.0103903  0.0473848  0.2193 0.8264620    \n",
      "postlaunch                0.1379476  0.0451743  3.0537 0.0022951 ** \n",
      "msm                      -0.0307736  0.0753531 -0.4084 0.6830363    \n",
      "age                       0.0132308  0.0063091  2.0971 0.0361293 *  \n",
      "imd_decile                0.0094055  0.0145735  0.6454 0.5187626    \n",
      "---\n",
      "Signif. codes:  0 '***' 0.001 '**' 0.01 '*' 0.05 '.' 0.1 ' ' 1\n",
      "\n"
     ]
    }
   ],
   "source": [
    "tabla=best_linear_projection(forest.tau, X)\n",
    "print(tabla)"
   ]
  },
  {
   "cell_type": "markdown",
   "id": "458cf396-b3b0-4c5d-a7af-67a5b217c268",
   "metadata": {},
   "source": [
    "# Double Lasso"
   ]
  },
  {
   "cell_type": "code",
   "execution_count": 111,
   "id": "7ff23d37-8d41-45ca-b4b5-a21dc0a49e34",
   "metadata": {},
   "outputs": [
    {
     "data": {
      "text/plain": [
       "\n",
       "Call:\n",
       "lm(formula = res_y ~ res_w)\n",
       "\n",
       "Residuals:\n",
       "    Min      1Q  Median      3Q     Max \n",
       "-0.5951 -0.3774 -0.2028  0.4969  0.9392 \n",
       "\n",
       "Coefficients:\n",
       "            Estimate Std. Error t value Pr(>|t|)    \n",
       "(Intercept) -0.04395    0.01150  -3.821 0.000138 ***\n",
       "res_w        0.24675    0.02164  11.404  < 2e-16 ***\n",
       "---\n",
       "Signif. codes:  0 '***' 0.001 '**' 0.01 '*' 0.05 '.' 0.1 ' ' 1\n",
       "\n",
       "Residual standard error: 0.4514 on 1733 degrees of freedom\n",
       "Multiple R-squared:  0.06981,\tAdjusted R-squared:  0.06927 \n",
       "F-statistic: 130.1 on 1 and 1733 DF,  p-value: < 2.2e-16\n"
      ]
     },
     "metadata": {},
     "output_type": "display_data"
    },
    {
     "data": {
      "text/plain": [
       "\n",
       "Call:\n",
       "lm(formula = res_y ~ res_b)\n",
       "\n",
       "Residuals:\n",
       "    Min      1Q  Median      3Q     Max \n",
       "-0.6889 -0.3427 -0.2020  0.4685  1.0337 \n",
       "\n",
       "Coefficients:\n",
       "             Estimate Std. Error t value Pr(>|t|)  \n",
       "(Intercept) -0.008485   0.011378  -0.746   0.4559  \n",
       "res_b       -0.063458   0.027084  -2.343   0.0192 *\n",
       "---\n",
       "Signif. codes:  0 '***' 0.001 '**' 0.01 '*' 0.05 '.' 0.1 ' ' 1\n",
       "\n",
       "Residual standard error: 0.4493 on 1733 degrees of freedom\n",
       "Multiple R-squared:  0.003158,\tAdjusted R-squared:  0.002582 \n",
       "F-statistic:  5.49 on 1 and 1733 DF,  p-value: 0.01924\n"
      ]
     },
     "metadata": {},
     "output_type": "display_data"
    }
   ],
   "source": [
    "data=read.csv(\"C:/Users/user/Documents/GitHub/Causal-Inference-Proyect-e---STI/DATA/processed_esti.csv\")\n",
    "data = data[data$gender_transgender != 1, ]\n",
    "\n",
    "#-----------------------------#\n",
    "#---Double Lasso  y ~ w-------#\n",
    "#-----------------------------#\n",
    "w = as.matrix(data[2])\n",
    "X = as.matrix(data[3:dim(data)[2]])\n",
    "y = as.matrix(data[1])\n",
    "\n",
    "lasso_y <- cv.glmnet(X, y, alpha = 1)\n",
    "lasso_w <- cv.glmnet(X, w, alpha = 1)\n",
    "\n",
    "\n",
    "pred_y = predict(lasso_y, s = lasso_y$lambda.min, newx = X, type = \"response\")\n",
    "pred_w = predict(lasso_y, s = lasso_y$lambda.min, newx = X, type = \"response\")\n",
    "res_y = y - pred_y\n",
    "res_w = w - pred_w\n",
    "\n",
    "ols_model1 <- lm(res_y ~ res_w)\n",
    "summary(ols_model1)\n",
    "\n",
    "#Heterogeneity\n",
    "data$int = data$w * data$gender_male\n",
    "b = as.matrix(data[16])\n",
    "X = as.matrix(data[2:15])\n",
    "y = as.matrix(data[1])\n",
    "\n",
    "lasso_y <- cv.glmnet(X, y, alpha = 1)\n",
    "lasso_b <- cv.glmnet(X, w, alpha = 1)\n",
    "\n",
    "\n",
    "pred_y = predict(lasso_y, s = lasso_y$lambda.min, newx = X, type = \"response\")\n",
    "pred_b = predict(lasso_y, s = lasso_y$lambda.min, newx = X, type = \"response\")\n",
    "res_y = y - pred_y\n",
    "res_b = b - pred_b\n",
    "\n",
    "ols_model2 <- lm(res_y ~ res_b)\n",
    "summary(ols_model2)"
   ]
  },
  {
   "cell_type": "code",
   "execution_count": 112,
   "id": "8bc0aede-97c7-4350-b241-e988218b5fc0",
   "metadata": {},
   "outputs": [
    {
     "name": "stdout",
     "output_type": "stream",
     "text": [
      "              Estimate Std. Error   t value     Pr(>|t|)\n",
      "(Intercept) -0.0439455 0.01150078 -3.821088 1.375532e-04\n",
      "res_w        0.2467490 0.02163636 11.404368 4.214245e-29\n",
      "                Estimate Std. Error   t value   Pr(>|t|)\n",
      "(Intercept) -0.008485461 0.01137769 -0.745798 0.45589057\n",
      "res_b       -0.063458078 0.02708427 -2.342987 0.01924265\n"
     ]
    }
   ],
   "source": [
    "#---Export---#\n",
    "#------------#\n",
    "model_summary = summary(ols_model1)\n",
    "coefficients = model_summary$coefficients\n",
    "coeff_df = as.data.frame(coefficients)\n",
    "print(coeff_df)\n",
    "csv_file = \"ate_doublelasso.csv\"\n",
    "write.csv(coeff_df, file = csv_file, row.names = TRUE)\n",
    "\n",
    "model_summary = summary(ols_model2)\n",
    "coefficients = model_summary$coefficients\n",
    "coeff_df = as.data.frame(coefficients)\n",
    "print(coeff_df)\n",
    "csv_file = \"het_doublelasso.csv\"\n",
    "write.csv(coeff_df, file = csv_file, row.names = TRUE)"
   ]
  },
  {
   "cell_type": "code",
   "execution_count": null,
   "id": "e2144c66-7625-4ba3-bb3a-cdf8e995510d",
   "metadata": {},
   "outputs": [],
   "source": []
  }
 ],
 "metadata": {
  "kernelspec": {
   "display_name": "R",
   "language": "R",
   "name": "ir"
  },
  "language_info": {
   "codemirror_mode": "r",
   "file_extension": ".r",
   "mimetype": "text/x-r-source",
   "name": "R",
   "pygments_lexer": "r",
   "version": "3.6.1"
  }
 },
 "nbformat": 4,
 "nbformat_minor": 5
}
